{
 "cells": [
  {
   "cell_type": "code",
   "execution_count": null,
   "metadata": {},
   "outputs": [],
   "source": [
    "!pip install pprint ipywidgets pandas numpy matplotlib sklearn seaborn xgboost scipy yellowbrick statsmodels pandas_profiling"
   ]
  },
  {
   "cell_type": "code",
   "execution_count": 1,
   "metadata": {},
   "outputs": [
    {
     "name": "stdout",
     "output_type": "stream",
     "text": [
      "Defaulting to user installation because normal site-packages is not writeable\n",
      "Requirement already satisfied: dask in /home/andrea/.local/lib/python3.6/site-packages (2.13.0)\n"
     ]
    }
   ],
   "source": [
    "!pip install dask dask_ml"
   ]
  },
  {
   "cell_type": "markdown",
   "metadata": {},
   "source": [
    "# Gusto\n",
    "\n",
    "Acute myocardial infarction (“heart attack”) is caused by the formation of a clot in oneof the coronary arteries that supply blood to the heart muscle. \n",
    "\n",
    "Acute MI is a major public health problem. Mortality is substantial in the period immediately after the event (and also during the years after surviving the initial  infarction). Some patients die before reaching the  hospital. Patients seen in hospitals are reported to have an average mortality within 30 days around 6–15%, with improvement over time. The risk of 30-day mortality strongly depends on various prognostic factors. In younger patients, risks are much lower than in older patients. Other patient demographics are also important (gender, length, weight), as well as the presence of risk factors (hypertension, diabetes, smoking, family history) and the history of previous cardiovascular events (previous MI, angina, stroke, bypass surgery). Relevant presenting characteristics includethe location of the infarction and the extent of ECG abnormalities. Very important is the acute state of the patients reflected by blood pressure,heart rate, and left ventricular function (e.g., presence of shock).\n",
    "\n",
    "Aim of this study is to find predictors of 30-days mortality. "
   ]
  },
  {
   "cell_type": "code",
   "execution_count": 81,
   "metadata": {},
   "outputs": [],
   "source": [
    "import warnings\n",
    "warnings.filterwarnings('ignore')\n",
    "\n",
    "from ipywidgets import interact, interactive, fixed, interact_manual\n",
    "import ipywidgets as widgets\n",
    "\n",
    "from pprint import pprint\n",
    "from time import sleep\n",
    "\n",
    "#  load data\n",
    "import pandas as pd\n",
    "import numpy as np\n",
    "import dask.dataframe as dd\n",
    "\n",
    "import matplotlib\n",
    "import matplotlib.pyplot as plt\n",
    "import seaborn as sns\n",
    "\n",
    "from sklearn.model_selection import train_test_split, GridSearchCV\n",
    "from sklearn.linear_model import LogisticRegression, LogisticRegressionCV\n",
    "from sklearn import metrics\n",
    "from sklearn.metrics import roc_auc_score\n",
    "from sklearn.pipeline import Pipeline\n",
    "from sklearn.decomposition import PCA\n",
    "from sklearn.base import BaseEstimator\n",
    "\n",
    "import tpot\n",
    "\n",
    "import xgboost as xgb\n",
    "\n",
    "from scipy.special import expit\n",
    "\n",
    "from yellowbrick.classifier import ConfusionMatrix, ClassBalance, ROCAUC, ClassificationReport, ClassPredictionError\n",
    "\n",
    "import statsmodels.api as sm\n",
    "from statsmodels.stats.outliers_influence import variance_inflation_factor\n",
    "\n",
    "from pandas_profiling import ProfileReport"
   ]
  },
  {
   "cell_type": "code",
   "execution_count": 92,
   "metadata": {
    "scrolled": true
   },
   "outputs": [
    {
     "data": {
      "text/html": [
       "<div>\n",
       "<style scoped>\n",
       "    .dataframe tbody tr th:only-of-type {\n",
       "        vertical-align: middle;\n",
       "    }\n",
       "\n",
       "    .dataframe tbody tr th {\n",
       "        vertical-align: top;\n",
       "    }\n",
       "\n",
       "    .dataframe thead th {\n",
       "        text-align: right;\n",
       "    }\n",
       "</style>\n",
       "<table border=\"1\" class=\"dataframe\">\n",
       "  <thead>\n",
       "    <tr style=\"text-align: right;\">\n",
       "      <th></th>\n",
       "      <th>day30</th>\n",
       "      <th>sex</th>\n",
       "      <th>age</th>\n",
       "      <th>a65</th>\n",
       "      <th>killip</th>\n",
       "      <th>sho</th>\n",
       "      <th>dia</th>\n",
       "      <th>hyp</th>\n",
       "      <th>hrt</th>\n",
       "      <th>ant</th>\n",
       "      <th>...</th>\n",
       "      <th>htn</th>\n",
       "      <th>smk</th>\n",
       "      <th>lip</th>\n",
       "      <th>pan</th>\n",
       "      <th>fam</th>\n",
       "      <th>ste</th>\n",
       "      <th>st4</th>\n",
       "      <th>ttr</th>\n",
       "      <th>eversmk</th>\n",
       "      <th>currentsmk</th>\n",
       "    </tr>\n",
       "  </thead>\n",
       "  <tbody>\n",
       "    <tr>\n",
       "      <th>count</th>\n",
       "      <td>3661.000000</td>\n",
       "      <td>3661.000000</td>\n",
       "      <td>3661.000000</td>\n",
       "      <td>3661.000000</td>\n",
       "      <td>3661.000000</td>\n",
       "      <td>3661.000000</td>\n",
       "      <td>3661.000000</td>\n",
       "      <td>3661.000000</td>\n",
       "      <td>3661.000000</td>\n",
       "      <td>3661.000000</td>\n",
       "      <td>...</td>\n",
       "      <td>3661.000000</td>\n",
       "      <td>3661.000000</td>\n",
       "      <td>3661.000000</td>\n",
       "      <td>3661.000000</td>\n",
       "      <td>3661.000000</td>\n",
       "      <td>3661.000000</td>\n",
       "      <td>3661.000000</td>\n",
       "      <td>3661.000000</td>\n",
       "      <td>3661.000000</td>\n",
       "      <td>3661.000000</td>\n",
       "    </tr>\n",
       "    <tr>\n",
       "      <th>mean</th>\n",
       "      <td>0.063098</td>\n",
       "      <td>0.256760</td>\n",
       "      <td>60.849984</td>\n",
       "      <td>0.394428</td>\n",
       "      <td>1.157334</td>\n",
       "      <td>0.016935</td>\n",
       "      <td>0.131385</td>\n",
       "      <td>0.087135</td>\n",
       "      <td>0.317126</td>\n",
       "      <td>0.367932</td>\n",
       "      <td>...</td>\n",
       "      <td>0.396340</td>\n",
       "      <td>1.883638</td>\n",
       "      <td>0.397432</td>\n",
       "      <td>0.350178</td>\n",
       "      <td>0.456706</td>\n",
       "      <td>4.060093</td>\n",
       "      <td>0.368479</td>\n",
       "      <td>0.589456</td>\n",
       "      <td>0.603660</td>\n",
       "      <td>0.279978</td>\n",
       "    </tr>\n",
       "    <tr>\n",
       "      <th>std</th>\n",
       "      <td>0.243171</td>\n",
       "      <td>0.436906</td>\n",
       "      <td>11.805047</td>\n",
       "      <td>0.488794</td>\n",
       "      <td>0.432737</td>\n",
       "      <td>0.129047</td>\n",
       "      <td>0.337867</td>\n",
       "      <td>0.282071</td>\n",
       "      <td>0.465421</td>\n",
       "      <td>0.482309</td>\n",
       "      <td>...</td>\n",
       "      <td>0.489203</td>\n",
       "      <td>0.814223</td>\n",
       "      <td>0.489434</td>\n",
       "      <td>0.477091</td>\n",
       "      <td>0.498190</td>\n",
       "      <td>1.874387</td>\n",
       "      <td>0.482458</td>\n",
       "      <td>0.492000</td>\n",
       "      <td>0.489203</td>\n",
       "      <td>0.449050</td>\n",
       "    </tr>\n",
       "    <tr>\n",
       "      <th>min</th>\n",
       "      <td>0.000000</td>\n",
       "      <td>0.000000</td>\n",
       "      <td>23.910000</td>\n",
       "      <td>0.000000</td>\n",
       "      <td>1.000000</td>\n",
       "      <td>0.000000</td>\n",
       "      <td>0.000000</td>\n",
       "      <td>0.000000</td>\n",
       "      <td>0.000000</td>\n",
       "      <td>0.000000</td>\n",
       "      <td>...</td>\n",
       "      <td>0.000000</td>\n",
       "      <td>1.000000</td>\n",
       "      <td>0.000000</td>\n",
       "      <td>0.000000</td>\n",
       "      <td>0.000000</td>\n",
       "      <td>0.000000</td>\n",
       "      <td>0.000000</td>\n",
       "      <td>0.000000</td>\n",
       "      <td>0.000000</td>\n",
       "      <td>0.000000</td>\n",
       "    </tr>\n",
       "    <tr>\n",
       "      <th>25%</th>\n",
       "      <td>0.000000</td>\n",
       "      <td>0.000000</td>\n",
       "      <td>51.547000</td>\n",
       "      <td>0.000000</td>\n",
       "      <td>1.000000</td>\n",
       "      <td>0.000000</td>\n",
       "      <td>0.000000</td>\n",
       "      <td>0.000000</td>\n",
       "      <td>0.000000</td>\n",
       "      <td>0.000000</td>\n",
       "      <td>...</td>\n",
       "      <td>0.000000</td>\n",
       "      <td>1.000000</td>\n",
       "      <td>0.000000</td>\n",
       "      <td>0.000000</td>\n",
       "      <td>0.000000</td>\n",
       "      <td>3.000000</td>\n",
       "      <td>0.000000</td>\n",
       "      <td>0.000000</td>\n",
       "      <td>0.000000</td>\n",
       "      <td>0.000000</td>\n",
       "    </tr>\n",
       "    <tr>\n",
       "      <th>50%</th>\n",
       "      <td>0.000000</td>\n",
       "      <td>0.000000</td>\n",
       "      <td>61.266000</td>\n",
       "      <td>0.000000</td>\n",
       "      <td>1.000000</td>\n",
       "      <td>0.000000</td>\n",
       "      <td>0.000000</td>\n",
       "      <td>0.000000</td>\n",
       "      <td>0.000000</td>\n",
       "      <td>0.000000</td>\n",
       "      <td>...</td>\n",
       "      <td>0.000000</td>\n",
       "      <td>2.000000</td>\n",
       "      <td>0.000000</td>\n",
       "      <td>0.000000</td>\n",
       "      <td>0.000000</td>\n",
       "      <td>4.000000</td>\n",
       "      <td>0.000000</td>\n",
       "      <td>1.000000</td>\n",
       "      <td>1.000000</td>\n",
       "      <td>0.000000</td>\n",
       "    </tr>\n",
       "    <tr>\n",
       "      <th>75%</th>\n",
       "      <td>0.000000</td>\n",
       "      <td>1.000000</td>\n",
       "      <td>70.094000</td>\n",
       "      <td>1.000000</td>\n",
       "      <td>1.000000</td>\n",
       "      <td>0.000000</td>\n",
       "      <td>0.000000</td>\n",
       "      <td>0.000000</td>\n",
       "      <td>1.000000</td>\n",
       "      <td>1.000000</td>\n",
       "      <td>...</td>\n",
       "      <td>1.000000</td>\n",
       "      <td>3.000000</td>\n",
       "      <td>1.000000</td>\n",
       "      <td>1.000000</td>\n",
       "      <td>1.000000</td>\n",
       "      <td>5.000000</td>\n",
       "      <td>1.000000</td>\n",
       "      <td>1.000000</td>\n",
       "      <td>1.000000</td>\n",
       "      <td>1.000000</td>\n",
       "    </tr>\n",
       "    <tr>\n",
       "      <th>max</th>\n",
       "      <td>1.000000</td>\n",
       "      <td>1.000000</td>\n",
       "      <td>89.484000</td>\n",
       "      <td>1.000000</td>\n",
       "      <td>4.000000</td>\n",
       "      <td>1.000000</td>\n",
       "      <td>1.000000</td>\n",
       "      <td>1.000000</td>\n",
       "      <td>1.000000</td>\n",
       "      <td>1.000000</td>\n",
       "      <td>...</td>\n",
       "      <td>1.000000</td>\n",
       "      <td>3.000000</td>\n",
       "      <td>1.000000</td>\n",
       "      <td>1.000000</td>\n",
       "      <td>1.000000</td>\n",
       "      <td>11.000000</td>\n",
       "      <td>1.000000</td>\n",
       "      <td>1.000000</td>\n",
       "      <td>1.000000</td>\n",
       "      <td>1.000000</td>\n",
       "    </tr>\n",
       "  </tbody>\n",
       "</table>\n",
       "<p>8 rows × 23 columns</p>\n",
       "</div>"
      ],
      "text/plain": [
       "             day30          sex          age          a65       killip  \\\n",
       "count  3661.000000  3661.000000  3661.000000  3661.000000  3661.000000   \n",
       "mean      0.063098     0.256760    60.849984     0.394428     1.157334   \n",
       "std       0.243171     0.436906    11.805047     0.488794     0.432737   \n",
       "min       0.000000     0.000000    23.910000     0.000000     1.000000   \n",
       "25%       0.000000     0.000000    51.547000     0.000000     1.000000   \n",
       "50%       0.000000     0.000000    61.266000     0.000000     1.000000   \n",
       "75%       0.000000     1.000000    70.094000     1.000000     1.000000   \n",
       "max       1.000000     1.000000    89.484000     1.000000     4.000000   \n",
       "\n",
       "               sho          dia          hyp          hrt          ant  ...  \\\n",
       "count  3661.000000  3661.000000  3661.000000  3661.000000  3661.000000  ...   \n",
       "mean      0.016935     0.131385     0.087135     0.317126     0.367932  ...   \n",
       "std       0.129047     0.337867     0.282071     0.465421     0.482309  ...   \n",
       "min       0.000000     0.000000     0.000000     0.000000     0.000000  ...   \n",
       "25%       0.000000     0.000000     0.000000     0.000000     0.000000  ...   \n",
       "50%       0.000000     0.000000     0.000000     0.000000     0.000000  ...   \n",
       "75%       0.000000     0.000000     0.000000     1.000000     1.000000  ...   \n",
       "max       1.000000     1.000000     1.000000     1.000000     1.000000  ...   \n",
       "\n",
       "               htn          smk          lip          pan          fam  \\\n",
       "count  3661.000000  3661.000000  3661.000000  3661.000000  3661.000000   \n",
       "mean      0.396340     1.883638     0.397432     0.350178     0.456706   \n",
       "std       0.489203     0.814223     0.489434     0.477091     0.498190   \n",
       "min       0.000000     1.000000     0.000000     0.000000     0.000000   \n",
       "25%       0.000000     1.000000     0.000000     0.000000     0.000000   \n",
       "50%       0.000000     2.000000     0.000000     0.000000     0.000000   \n",
       "75%       1.000000     3.000000     1.000000     1.000000     1.000000   \n",
       "max       1.000000     3.000000     1.000000     1.000000     1.000000   \n",
       "\n",
       "               ste          st4          ttr      eversmk   currentsmk  \n",
       "count  3661.000000  3661.000000  3661.000000  3661.000000  3661.000000  \n",
       "mean      4.060093     0.368479     0.589456     0.603660     0.279978  \n",
       "std       1.874387     0.482458     0.492000     0.489203     0.449050  \n",
       "min       0.000000     0.000000     0.000000     0.000000     0.000000  \n",
       "25%       3.000000     0.000000     0.000000     0.000000     0.000000  \n",
       "50%       4.000000     0.000000     1.000000     1.000000     0.000000  \n",
       "75%       5.000000     1.000000     1.000000     1.000000     1.000000  \n",
       "max      11.000000     1.000000     1.000000     1.000000     1.000000  \n",
       "\n",
       "[8 rows x 23 columns]"
      ]
     },
     "execution_count": 92,
     "metadata": {},
     "output_type": "execute_result"
    }
   ],
   "source": [
    "df = pd.read_csv(\"./Gusto.csv\")\n",
    "\n",
    "# dummify smk categories\n",
    "df['eversmk']= (df['smk']!=1).astype(int)\n",
    "df['currentsmk']=(df['smk']==3).astype(int)\n",
    "df.drop([\"smk\"], axis=1)\n",
    "df.describe()"
   ]
  },
  {
   "cell_type": "code",
   "execution_count": 93,
   "metadata": {},
   "outputs": [
    {
     "data": {
      "text/plain": [
       "False"
      ]
     },
     "execution_count": 93,
     "metadata": {},
     "output_type": "execute_result"
    }
   ],
   "source": [
    "# any null value?\n",
    "bool(df.isnull().sum().sum())"
   ]
  },
  {
   "cell_type": "code",
   "execution_count": 94,
   "metadata": {},
   "outputs": [
    {
     "data": {
      "text/plain": [
       "Index(['day30', 'sex', 'age', 'a65', 'killip', 'sho', 'dia', 'hyp', 'hrt',\n",
       "       'ant', 'pmi', 'hei', 'wei', 'htn', 'smk', 'lip', 'pan', 'fam', 'ste',\n",
       "       'st4', 'ttr', 'eversmk', 'currentsmk'],\n",
       "      dtype='object')"
      ]
     },
     "execution_count": 94,
     "metadata": {},
     "output_type": "execute_result"
    }
   ],
   "source": [
    "# dropping useless/redundant columns\n",
    "df.drop([\"sho\", \"a65\", \"st4\"], axis=1)\n",
    "df.columns"
   ]
  },
  {
   "cell_type": "code",
   "execution_count": 85,
   "metadata": {},
   "outputs": [],
   "source": [
    "x_train, x_test, y_train, y_test = train_test_split(df[df.columns[1:]], df['day30'])"
   ]
  },
  {
   "cell_type": "code",
   "execution_count": 86,
   "metadata": {},
   "outputs": [],
   "source": [
    "from tpot import TPOTClassifier"
   ]
  },
  {
   "cell_type": "code",
   "execution_count": 87,
   "metadata": {},
   "outputs": [],
   "source": [
    "pipeline_optimizer = TPOTClassifier()"
   ]
  },
  {
   "cell_type": "code",
   "execution_count": 90,
   "metadata": {},
   "outputs": [],
   "source": [
    "pipeline_optimizer = TPOTClassifier(generations=15, population_size=30, cv=5,\n",
    "                                    random_state=42, verbosity=2)"
   ]
  },
  {
   "cell_type": "code",
   "execution_count": 91,
   "metadata": {
    "scrolled": true
   },
   "outputs": [
    {
     "data": {
      "application/vnd.jupyter.widget-view+json": {
       "model_id": "",
       "version_major": 2,
       "version_minor": 0
      },
      "text/plain": [
       "HBox(children=(FloatProgress(value=0.0, description='Optimization Progress', max=480.0, style=ProgressStyle(de…"
      ]
     },
     "metadata": {},
     "output_type": "display_data"
    },
    {
     "name": "stdout",
     "output_type": "stream",
     "text": [
      "\n",
      "Generation 1 - Current best internal CV score: 0.9508196721311476\n",
      "Generation 2 - Current best internal CV score: 0.9508196721311476\n",
      "Generation 3 - Current best internal CV score: 0.9508196721311476\n",
      "Generation 4 - Current best internal CV score: 0.9526411657559197\n",
      "Generation 5 - Current best internal CV score: 0.9526411657559197\n",
      "Generation 6 - Current best internal CV score: 0.9526411657559197\n",
      "Generation 7 - Current best internal CV score: 0.9526411657559197\n",
      "Generation 8 - Current best internal CV score: 0.9526411657559197\n",
      "Generation 9 - Current best internal CV score: 0.9526411657559197\n",
      "Generation 10 - Current best internal CV score: 0.9526411657559197\n",
      "Generation 11 - Current best internal CV score: 0.9526411657559197\n",
      "Generation 12 - Current best internal CV score: 0.9526411657559197\n",
      "Generation 13 - Current best internal CV score: 0.9526411657559197\n",
      "Generation 14 - Current best internal CV score: 0.9526411657559197\n",
      "Generation 15 - Current best internal CV score: 0.9526411657559197\n",
      "Best pipeline: KNeighborsClassifier(StandardScaler(input_matrix), n_neighbors=19, p=1, weights=distance)\n"
     ]
    },
    {
     "data": {
      "text/plain": [
       "TPOTClassifier(config_dict=None, crossover_rate=0.1, cv=5,\n",
       "               disable_update_check=False, early_stop=None, generations=15,\n",
       "               log_file=<ipykernel.iostream.OutStream object at 0x7fd7d21d3b38>,\n",
       "               max_eval_time_mins=5, max_time_mins=None, memory=None,\n",
       "               mutation_rate=0.9, n_jobs=1, offspring_size=None,\n",
       "               periodic_checkpoint_folder=None, population_size=30,\n",
       "               random_state=42, scoring=None, subsample=1.0, template=None,\n",
       "               use_dask=False, verbosity=2, warm_start=False)"
      ]
     },
     "execution_count": 91,
     "metadata": {},
     "output_type": "execute_result"
    }
   ],
   "source": [
    "pipeline_optimizer.fit(x_train, y_train)"
   ]
  },
  {
   "cell_type": "code",
   "execution_count": 73,
   "metadata": {},
   "outputs": [
    {
     "name": "stdout",
     "output_type": "stream",
     "text": [
      "0.9563318777292577\n"
     ]
    }
   ],
   "source": [
    "print(pipeline_optimizer.score(x_test, y_test))"
   ]
  },
  {
   "cell_type": "code",
   "execution_count": 74,
   "metadata": {},
   "outputs": [],
   "source": [
    "pipeline_optimizer.export('1.py')"
   ]
  },
  {
   "cell_type": "code",
   "execution_count": 76,
   "metadata": {},
   "outputs": [],
   "source": [
    "import numpy as np\n",
    "import pandas as pd\n",
    "from sklearn.model_selection import train_test_split\n",
    "from sklearn.neighbors import KNeighborsClassifier\n",
    "from sklearn.pipeline import make_pipeline\n",
    "from sklearn.preprocessing import StandardScaler\n",
    "from tpot.export_utils import set_param_recursive\n",
    "\n",
    "# NOTE: Make sure that the outcome column is labeled 'target' in the data file\n",
    "\n",
    "features = df.drop('day30', axis=1)\n",
    "training_features, testing_features, training_target, testing_target = \\\n",
    "            train_test_split(features, df['day30'], random_state=42)\n",
    "\n",
    "# Average CV score on the training set was: 0.9522768670309654\n",
    "exported_pipeline = make_pipeline(\n",
    "    StandardScaler(),\n",
    "    KNeighborsClassifier(n_neighbors=32, p=2, weights=\"distance\")\n",
    ")\n",
    "# Fix random state for all the steps in exported pipeline\n",
    "set_param_recursive(exported_pipeline.steps, 'random_state', 42)\n",
    "\n",
    "exported_pipeline.fit(training_features, training_target)\n",
    "results = exported_pipeline.predict(testing_features)"
   ]
  },
  {
   "cell_type": "markdown",
   "metadata": {},
   "source": []
  },
  {
   "cell_type": "code",
   "execution_count": 80,
   "metadata": {},
   "outputs": [
    {
     "data": {
      "image/png": "[encoded data removed]",
      "text/plain": [
       "<Figure size 1080x720 with 1 Axes>"
      ]
     },
     "metadata": {},
     "output_type": "display_data"
    }
   ],
   "source": [
    "from yellowbrick.classifier import ROCAUC\n",
    "\n",
    "rocauc = ROCAUC(exported_pipeline, size=(1080, 720))\n",
    "\n",
    "rocauc.score(x_test, y_test)  \n",
    "r = rocauc.poof()"
   ]
  },
  {
   "cell_type": "code",
   "execution_count": null,
   "metadata": {},
   "outputs": [],
   "source": []
  }
 ],
 "metadata": {
  "kernelspec": {
   "display_name": "Python 3",
   "language": "python",
   "name": "python3"
  },
  "language_info": {
   "codemirror_mode": {
    "name": "ipython",
    "version": 3
   },
   "file_extension": ".py",
   "mimetype": "text/x-python",
   "name": "python",
   "nbconvert_exporter": "python",
   "pygments_lexer": "ipython3",
   "version": "3.6.9"
  }
 },
 "nbformat": 4,
 "nbformat_minor": 4
}
